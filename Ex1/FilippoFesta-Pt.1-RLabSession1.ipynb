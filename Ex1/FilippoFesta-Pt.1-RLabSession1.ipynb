{
 "cells": [
  {
   "cell_type": "code",
   "execution_count": 42,
   "id": "accomplished-gross",
   "metadata": {},
   "outputs": [
    {
     "data": {
      "text/html": [
       "<table>\n",
       "<thead><tr><th scope=col>Loch</th><th scope=col>Volume</th><th scope=col>Area</th><th scope=col>Lenght</th><th scope=col>Max.Depth</th><th scope=col>MeanDepth</th></tr></thead>\n",
       "<tbody>\n",
       "\t<tr><td>Ness       </td><td>7.45 [km^3]</td><td>56.0 [km^2]</td><td>39.0 [km]  </td><td>230 [m]    </td><td>132.0 [m]  </td></tr>\n",
       "\t<tr><td>Lomond     </td><td>2.60 [km^3]</td><td>71.0 [km^2]</td><td>36.0 [km]  </td><td>190 [m]    </td><td> 37.0 [m]  </td></tr>\n",
       "\t<tr><td>Morar      </td><td>2.30 [km^3]</td><td>27.0 [km^2]</td><td>18.8 [km]  </td><td>310 [m]    </td><td> 87.0 [m]  </td></tr>\n",
       "\t<tr><td>Tay        </td><td>1.60 [km^3]</td><td>26.4 [km^2]</td><td>23.0 [km]  </td><td>150 [m]    </td><td> 60.6 [m]  </td></tr>\n",
       "\t<tr><td>Awe        </td><td>1.20 [km^3]</td><td>39.0 [km^2]</td><td>41.0 [km]  </td><td> 94 [m]    </td><td> 32.0 [m]  </td></tr>\n",
       "\t<tr><td>Maree      </td><td>1.09 [km^3]</td><td>28.6 [km^2]</td><td>20.0 [km]  </td><td>114 [m]    </td><td> 38.0 [m]  </td></tr>\n",
       "\t<tr><td>Ericht     </td><td>1.08 [km^3]</td><td>18.6 [km^2]</td><td>23.0 [km]  </td><td>156 [m]    </td><td> 57.6 [m]  </td></tr>\n",
       "\t<tr><td>Lochy      </td><td>1.07 [km^3]</td><td>16.0 [km^2]</td><td>16.0 [km]  </td><td>162 [m]    </td><td> 70.0 [m]  </td></tr>\n",
       "\t<tr><td>Rannoch    </td><td>0.97 [km^3]</td><td>19.0 [km^2]</td><td>15.7 [km]  </td><td>134 [m]    </td><td> 51.0 [m]  </td></tr>\n",
       "\t<tr><td>Shiel      </td><td>0.79 [km^3]</td><td>19.5 [km^2]</td><td>28.0 [km]  </td><td>128 [m]    </td><td> 40.0 [m]  </td></tr>\n",
       "\t<tr><td>Katrine    </td><td>0.77 [km^3]</td><td>12.4 [km^2]</td><td>12.9 [km]  </td><td>151 [m]    </td><td> 43.4 [m]  </td></tr>\n",
       "\t<tr><td>Arkaig     </td><td>0.75 [km^3]</td><td>16.0 [km^2]</td><td>19.3 [km]  </td><td>109 [m]    </td><td> 46.5 [m]  </td></tr>\n",
       "\t<tr><td>Shin       </td><td>0.35 [km^3]</td><td>22.5 [km^2]</td><td>27.8 [km]  </td><td> 49 [m]    </td><td> 15.5 [m]  </td></tr>\n",
       "</tbody>\n",
       "</table>\n"
      ],
      "text/latex": [
       "\\begin{tabular}{r|llllll}\n",
       " Loch & Volume & Area & Lenght & Max.Depth & MeanDepth\\\\\n",
       "\\hline\n",
       "\t Ness                              & 7.45 {[}km\\textasciicircum{}3{]} & 56.0 {[}km\\textasciicircum{}2{]} & 39.0 {[}km{]}                     & 230 {[}m{]}                       & 132.0 {[}m{]}                    \\\\\n",
       "\t Lomond                            & 2.60 {[}km\\textasciicircum{}3{]} & 71.0 {[}km\\textasciicircum{}2{]} & 36.0 {[}km{]}                     & 190 {[}m{]}                       &  37.0 {[}m{]}                    \\\\\n",
       "\t Morar                             & 2.30 {[}km\\textasciicircum{}3{]} & 27.0 {[}km\\textasciicircum{}2{]} & 18.8 {[}km{]}                     & 310 {[}m{]}                       &  87.0 {[}m{]}                    \\\\\n",
       "\t Tay                               & 1.60 {[}km\\textasciicircum{}3{]} & 26.4 {[}km\\textasciicircum{}2{]} & 23.0 {[}km{]}                     & 150 {[}m{]}                       &  60.6 {[}m{]}                    \\\\\n",
       "\t Awe                               & 1.20 {[}km\\textasciicircum{}3{]} & 39.0 {[}km\\textasciicircum{}2{]} & 41.0 {[}km{]}                     &  94 {[}m{]}                       &  32.0 {[}m{]}                    \\\\\n",
       "\t Maree                             & 1.09 {[}km\\textasciicircum{}3{]} & 28.6 {[}km\\textasciicircum{}2{]} & 20.0 {[}km{]}                     & 114 {[}m{]}                       &  38.0 {[}m{]}                    \\\\\n",
       "\t Ericht                            & 1.08 {[}km\\textasciicircum{}3{]} & 18.6 {[}km\\textasciicircum{}2{]} & 23.0 {[}km{]}                     & 156 {[}m{]}                       &  57.6 {[}m{]}                    \\\\\n",
       "\t Lochy                             & 1.07 {[}km\\textasciicircum{}3{]} & 16.0 {[}km\\textasciicircum{}2{]} & 16.0 {[}km{]}                     & 162 {[}m{]}                       &  70.0 {[}m{]}                    \\\\\n",
       "\t Rannoch                           & 0.97 {[}km\\textasciicircum{}3{]} & 19.0 {[}km\\textasciicircum{}2{]} & 15.7 {[}km{]}                     & 134 {[}m{]}                       &  51.0 {[}m{]}                    \\\\\n",
       "\t Shiel                             & 0.79 {[}km\\textasciicircum{}3{]} & 19.5 {[}km\\textasciicircum{}2{]} & 28.0 {[}km{]}                     & 128 {[}m{]}                       &  40.0 {[}m{]}                    \\\\\n",
       "\t Katrine                           & 0.77 {[}km\\textasciicircum{}3{]} & 12.4 {[}km\\textasciicircum{}2{]} & 12.9 {[}km{]}                     & 151 {[}m{]}                       &  43.4 {[}m{]}                    \\\\\n",
       "\t Arkaig                            & 0.75 {[}km\\textasciicircum{}3{]} & 16.0 {[}km\\textasciicircum{}2{]} & 19.3 {[}km{]}                     & 109 {[}m{]}                       &  46.5 {[}m{]}                    \\\\\n",
       "\t Shin                              & 0.35 {[}km\\textasciicircum{}3{]} & 22.5 {[}km\\textasciicircum{}2{]} & 27.8 {[}km{]}                     &  49 {[}m{]}                       &  15.5 {[}m{]}                    \\\\\n",
       "\\end{tabular}\n"
      ],
      "text/markdown": [
       "\n",
       "| Loch | Volume | Area | Lenght | Max.Depth | MeanDepth |\n",
       "|---|---|---|---|---|---|\n",
       "| Ness        | 7.45 [km^3] | 56.0 [km^2] | 39.0 [km]   | 230 [m]     | 132.0 [m]   |\n",
       "| Lomond      | 2.60 [km^3] | 71.0 [km^2] | 36.0 [km]   | 190 [m]     |  37.0 [m]   |\n",
       "| Morar       | 2.30 [km^3] | 27.0 [km^2] | 18.8 [km]   | 310 [m]     |  87.0 [m]   |\n",
       "| Tay         | 1.60 [km^3] | 26.4 [km^2] | 23.0 [km]   | 150 [m]     |  60.6 [m]   |\n",
       "| Awe         | 1.20 [km^3] | 39.0 [km^2] | 41.0 [km]   |  94 [m]     |  32.0 [m]   |\n",
       "| Maree       | 1.09 [km^3] | 28.6 [km^2] | 20.0 [km]   | 114 [m]     |  38.0 [m]   |\n",
       "| Ericht      | 1.08 [km^3] | 18.6 [km^2] | 23.0 [km]   | 156 [m]     |  57.6 [m]   |\n",
       "| Lochy       | 1.07 [km^3] | 16.0 [km^2] | 16.0 [km]   | 162 [m]     |  70.0 [m]   |\n",
       "| Rannoch     | 0.97 [km^3] | 19.0 [km^2] | 15.7 [km]   | 134 [m]     |  51.0 [m]   |\n",
       "| Shiel       | 0.79 [km^3] | 19.5 [km^2] | 28.0 [km]   | 128 [m]     |  40.0 [m]   |\n",
       "| Katrine     | 0.77 [km^3] | 12.4 [km^2] | 12.9 [km]   | 151 [m]     |  43.4 [m]   |\n",
       "| Arkaig      | 0.75 [km^3] | 16.0 [km^2] | 19.3 [km]   | 109 [m]     |  46.5 [m]   |\n",
       "| Shin        | 0.35 [km^3] | 22.5 [km^2] | 27.8 [km]   |  49 [m]     |  15.5 [m]   |\n",
       "\n"
      ],
      "text/plain": [
       "   Loch    Volume      Area        Lenght    Max.Depth MeanDepth\n",
       "1  Ness    7.45 [km^3] 56.0 [km^2] 39.0 [km] 230 [m]   132.0 [m]\n",
       "2  Lomond  2.60 [km^3] 71.0 [km^2] 36.0 [km] 190 [m]    37.0 [m]\n",
       "3  Morar   2.30 [km^3] 27.0 [km^2] 18.8 [km] 310 [m]    87.0 [m]\n",
       "4  Tay     1.60 [km^3] 26.4 [km^2] 23.0 [km] 150 [m]    60.6 [m]\n",
       "5  Awe     1.20 [km^3] 39.0 [km^2] 41.0 [km]  94 [m]    32.0 [m]\n",
       "6  Maree   1.09 [km^3] 28.6 [km^2] 20.0 [km] 114 [m]    38.0 [m]\n",
       "7  Ericht  1.08 [km^3] 18.6 [km^2] 23.0 [km] 156 [m]    57.6 [m]\n",
       "8  Lochy   1.07 [km^3] 16.0 [km^2] 16.0 [km] 162 [m]    70.0 [m]\n",
       "9  Rannoch 0.97 [km^3] 19.0 [km^2] 15.7 [km] 134 [m]    51.0 [m]\n",
       "10 Shiel   0.79 [km^3] 19.5 [km^2] 28.0 [km] 128 [m]    40.0 [m]\n",
       "11 Katrine 0.77 [km^3] 12.4 [km^2] 12.9 [km] 151 [m]    43.4 [m]\n",
       "12 Arkaig  0.75 [km^3] 16.0 [km^2] 19.3 [km] 109 [m]    46.5 [m]\n",
       "13 Shin    0.35 [km^3] 22.5 [km^2] 27.8 [km]  49 [m]    15.5 [m]"
      ]
     },
     "metadata": {},
     "output_type": "display_data"
    }
   ],
   "source": [
    "library(units)\n",
    "Loch<-c(\"Ness\",\"Lomond\",\"Morar\",\"Tay\",\"Awe\",\"Maree\",\"Ericht\",\"Lochy\",\"Rannoch\",\"Shiel\",\"Katrine\",\"Arkaig\",\"Shin\")\n",
    "Volume<-set_units(c(7.45,2.6,2.3,1.6,1.2,1.09,1.08,1.07,0.97,0.79,0.77,0.75,0.35),km^3)\n",
    "Area<-set_units(c(56,71,27,26.4,39,28.6,18.6,16,19,19.5,12.4,16,22.5),km^2)\n",
    "Lenght<-set_units(c(39,36,18.8,23,41,20,23,16,15.7,28,12.9,19.3,27.8),km)\n",
    "Max.Depth<-set_units(c(230,190,310,150,94,114,156,162,134,128,151,109,49),m)\n",
    "MeanDepth<-set_units(c(132,37,87,60.6,32,38,57.6,70,51,40,43.4,46.5,15.5),m)\n",
    "scottish.lakes<-data.frame(Loch,Volume,Area,Lenght,Max.Depth,MeanDepth)\n",
    "scottish.lakes"
   ]
  },
  {
   "cell_type": "code",
   "execution_count": 66,
   "id": "handy-agreement",
   "metadata": {},
   "outputs": [
    {
     "data": {
      "text/html": [
       "'Maximum Volume:'"
      ],
      "text/latex": [
       "'Maximum Volume:'"
      ],
      "text/markdown": [
       "'Maximum Volume:'"
      ],
      "text/plain": [
       "[1] \"Maximum Volume:\""
      ]
     },
     "metadata": {},
     "output_type": "display_data"
    },
    {
     "data": {
      "text/plain": [
       "7.45 [km^3]"
      ]
     },
     "metadata": {},
     "output_type": "display_data"
    },
    {
     "data": {
      "text/html": [
       "'Minimum Volume:'"
      ],
      "text/latex": [
       "'Minimum Volume:'"
      ],
      "text/markdown": [
       "'Minimum Volume:'"
      ],
      "text/plain": [
       "[1] \"Minimum Volume:\""
      ]
     },
     "metadata": {},
     "output_type": "display_data"
    },
    {
     "data": {
      "text/plain": [
       "0.35 [km^3]"
      ]
     },
     "metadata": {},
     "output_type": "display_data"
    },
    {
     "data": {
      "text/html": [
       "'Maximum Area:'"
      ],
      "text/latex": [
       "'Maximum Area:'"
      ],
      "text/markdown": [
       "'Maximum Area:'"
      ],
      "text/plain": [
       "[1] \"Maximum Area:\""
      ]
     },
     "metadata": {},
     "output_type": "display_data"
    },
    {
     "data": {
      "text/plain": [
       "71 [km^2]"
      ]
     },
     "metadata": {},
     "output_type": "display_data"
    },
    {
     "data": {
      "text/html": [
       "'Minimum Area:'"
      ],
      "text/latex": [
       "'Minimum Area:'"
      ],
      "text/markdown": [
       "'Minimum Area:'"
      ],
      "text/plain": [
       "[1] \"Minimum Area:\""
      ]
     },
     "metadata": {},
     "output_type": "display_data"
    },
    {
     "data": {
      "text/plain": [
       "12.4 [km^2]"
      ]
     },
     "metadata": {},
     "output_type": "display_data"
    }
   ],
   "source": [
    "\"Maximum Volume:\"\n",
    "max(scottish.lakes$Volume)\n",
    "\n",
    "\"Minimum Volume:\"\n",
    "min(scottish.lakes$Volume)\n",
    "\n",
    "\"Maximum Area:\"\n",
    "max(scottish.lakes$Area)\n",
    "\n",
    "\"Minimum Area:\"\n",
    "min(scottish.lakes$Area)"
   ]
  },
  {
   "cell_type": "code",
   "execution_count": 58,
   "id": "caroline-mustang",
   "metadata": {},
   "outputs": [
    {
     "data": {
      "text/html": [
       "<table>\n",
       "<thead><tr><th></th><th scope=col>Loch</th><th scope=col>Volume</th><th scope=col>Area</th><th scope=col>Lenght</th><th scope=col>Max.Depth</th><th scope=col>MeanDepth</th></tr></thead>\n",
       "<tbody>\n",
       "\t<tr><th scope=row>2</th><td>Lomond     </td><td>2.60 [km^3]</td><td>71.0 [km^2]</td><td>36.0 [km]  </td><td>190 [m]    </td><td> 37.0 [m]  </td></tr>\n",
       "\t<tr><th scope=row>1</th><td>Ness       </td><td>7.45 [km^3]</td><td>56.0 [km^2]</td><td>39.0 [km]  </td><td>230 [m]    </td><td>132.0 [m]  </td></tr>\n",
       "\t<tr><th scope=row>5</th><td>Awe        </td><td>1.20 [km^3]</td><td>39.0 [km^2]</td><td>41.0 [km]  </td><td> 94 [m]    </td><td> 32.0 [m]  </td></tr>\n",
       "\t<tr><th scope=row>6</th><td>Maree      </td><td>1.09 [km^3]</td><td>28.6 [km^2]</td><td>20.0 [km]  </td><td>114 [m]    </td><td> 38.0 [m]  </td></tr>\n",
       "\t<tr><th scope=row>3</th><td>Morar      </td><td>2.30 [km^3]</td><td>27.0 [km^2]</td><td>18.8 [km]  </td><td>310 [m]    </td><td> 87.0 [m]  </td></tr>\n",
       "\t<tr><th scope=row>4</th><td>Tay        </td><td>1.60 [km^3]</td><td>26.4 [km^2]</td><td>23.0 [km]  </td><td>150 [m]    </td><td> 60.6 [m]  </td></tr>\n",
       "\t<tr><th scope=row>13</th><td>Shin       </td><td>0.35 [km^3]</td><td>22.5 [km^2]</td><td>27.8 [km]  </td><td> 49 [m]    </td><td> 15.5 [m]  </td></tr>\n",
       "\t<tr><th scope=row>10</th><td>Shiel      </td><td>0.79 [km^3]</td><td>19.5 [km^2]</td><td>28.0 [km]  </td><td>128 [m]    </td><td> 40.0 [m]  </td></tr>\n",
       "\t<tr><th scope=row>9</th><td>Rannoch    </td><td>0.97 [km^3]</td><td>19.0 [km^2]</td><td>15.7 [km]  </td><td>134 [m]    </td><td> 51.0 [m]  </td></tr>\n",
       "\t<tr><th scope=row>7</th><td>Ericht     </td><td>1.08 [km^3]</td><td>18.6 [km^2]</td><td>23.0 [km]  </td><td>156 [m]    </td><td> 57.6 [m]  </td></tr>\n",
       "\t<tr><th scope=row>8</th><td>Lochy      </td><td>1.07 [km^3]</td><td>16.0 [km^2]</td><td>16.0 [km]  </td><td>162 [m]    </td><td> 70.0 [m]  </td></tr>\n",
       "\t<tr><th scope=row>12</th><td>Arkaig     </td><td>0.75 [km^3]</td><td>16.0 [km^2]</td><td>19.3 [km]  </td><td>109 [m]    </td><td> 46.5 [m]  </td></tr>\n",
       "\t<tr><th scope=row>11</th><td>Katrine    </td><td>0.77 [km^3]</td><td>12.4 [km^2]</td><td>12.9 [km]  </td><td>151 [m]    </td><td> 43.4 [m]  </td></tr>\n",
       "</tbody>\n",
       "</table>\n"
      ],
      "text/latex": [
       "\\begin{tabular}{r|llllll}\n",
       "  & Loch & Volume & Area & Lenght & Max.Depth & MeanDepth\\\\\n",
       "\\hline\n",
       "\t2 & Lomond                            & 2.60 {[}km\\textasciicircum{}3{]} & 71.0 {[}km\\textasciicircum{}2{]} & 36.0 {[}km{]}                     & 190 {[}m{]}                       &  37.0 {[}m{]}                    \\\\\n",
       "\t1 & Ness                              & 7.45 {[}km\\textasciicircum{}3{]} & 56.0 {[}km\\textasciicircum{}2{]} & 39.0 {[}km{]}                     & 230 {[}m{]}                       & 132.0 {[}m{]}                    \\\\\n",
       "\t5 & Awe                               & 1.20 {[}km\\textasciicircum{}3{]} & 39.0 {[}km\\textasciicircum{}2{]} & 41.0 {[}km{]}                     &  94 {[}m{]}                       &  32.0 {[}m{]}                    \\\\\n",
       "\t6 & Maree                             & 1.09 {[}km\\textasciicircum{}3{]} & 28.6 {[}km\\textasciicircum{}2{]} & 20.0 {[}km{]}                     & 114 {[}m{]}                       &  38.0 {[}m{]}                    \\\\\n",
       "\t3 & Morar                             & 2.30 {[}km\\textasciicircum{}3{]} & 27.0 {[}km\\textasciicircum{}2{]} & 18.8 {[}km{]}                     & 310 {[}m{]}                       &  87.0 {[}m{]}                    \\\\\n",
       "\t4 & Tay                               & 1.60 {[}km\\textasciicircum{}3{]} & 26.4 {[}km\\textasciicircum{}2{]} & 23.0 {[}km{]}                     & 150 {[}m{]}                       &  60.6 {[}m{]}                    \\\\\n",
       "\t13 & Shin                              & 0.35 {[}km\\textasciicircum{}3{]} & 22.5 {[}km\\textasciicircum{}2{]} & 27.8 {[}km{]}                     &  49 {[}m{]}                       &  15.5 {[}m{]}                    \\\\\n",
       "\t10 & Shiel                             & 0.79 {[}km\\textasciicircum{}3{]} & 19.5 {[}km\\textasciicircum{}2{]} & 28.0 {[}km{]}                     & 128 {[}m{]}                       &  40.0 {[}m{]}                    \\\\\n",
       "\t9 & Rannoch                           & 0.97 {[}km\\textasciicircum{}3{]} & 19.0 {[}km\\textasciicircum{}2{]} & 15.7 {[}km{]}                     & 134 {[}m{]}                       &  51.0 {[}m{]}                    \\\\\n",
       "\t7 & Ericht                            & 1.08 {[}km\\textasciicircum{}3{]} & 18.6 {[}km\\textasciicircum{}2{]} & 23.0 {[}km{]}                     & 156 {[}m{]}                       &  57.6 {[}m{]}                    \\\\\n",
       "\t8 & Lochy                             & 1.07 {[}km\\textasciicircum{}3{]} & 16.0 {[}km\\textasciicircum{}2{]} & 16.0 {[}km{]}                     & 162 {[}m{]}                       &  70.0 {[}m{]}                    \\\\\n",
       "\t12 & Arkaig                            & 0.75 {[}km\\textasciicircum{}3{]} & 16.0 {[}km\\textasciicircum{}2{]} & 19.3 {[}km{]}                     & 109 {[}m{]}                       &  46.5 {[}m{]}                    \\\\\n",
       "\t11 & Katrine                           & 0.77 {[}km\\textasciicircum{}3{]} & 12.4 {[}km\\textasciicircum{}2{]} & 12.9 {[}km{]}                     & 151 {[}m{]}                       &  43.4 {[}m{]}                    \\\\\n",
       "\\end{tabular}\n"
      ],
      "text/markdown": [
       "\n",
       "| <!--/--> | Loch | Volume | Area | Lenght | Max.Depth | MeanDepth |\n",
       "|---|---|---|---|---|---|---|\n",
       "| 2 | Lomond      | 2.60 [km^3] | 71.0 [km^2] | 36.0 [km]   | 190 [m]     |  37.0 [m]   |\n",
       "| 1 | Ness        | 7.45 [km^3] | 56.0 [km^2] | 39.0 [km]   | 230 [m]     | 132.0 [m]   |\n",
       "| 5 | Awe         | 1.20 [km^3] | 39.0 [km^2] | 41.0 [km]   |  94 [m]     |  32.0 [m]   |\n",
       "| 6 | Maree       | 1.09 [km^3] | 28.6 [km^2] | 20.0 [km]   | 114 [m]     |  38.0 [m]   |\n",
       "| 3 | Morar       | 2.30 [km^3] | 27.0 [km^2] | 18.8 [km]   | 310 [m]     |  87.0 [m]   |\n",
       "| 4 | Tay         | 1.60 [km^3] | 26.4 [km^2] | 23.0 [km]   | 150 [m]     |  60.6 [m]   |\n",
       "| 13 | Shin        | 0.35 [km^3] | 22.5 [km^2] | 27.8 [km]   |  49 [m]     |  15.5 [m]   |\n",
       "| 10 | Shiel       | 0.79 [km^3] | 19.5 [km^2] | 28.0 [km]   | 128 [m]     |  40.0 [m]   |\n",
       "| 9 | Rannoch     | 0.97 [km^3] | 19.0 [km^2] | 15.7 [km]   | 134 [m]     |  51.0 [m]   |\n",
       "| 7 | Ericht      | 1.08 [km^3] | 18.6 [km^2] | 23.0 [km]   | 156 [m]     |  57.6 [m]   |\n",
       "| 8 | Lochy       | 1.07 [km^3] | 16.0 [km^2] | 16.0 [km]   | 162 [m]     |  70.0 [m]   |\n",
       "| 12 | Arkaig      | 0.75 [km^3] | 16.0 [km^2] | 19.3 [km]   | 109 [m]     |  46.5 [m]   |\n",
       "| 11 | Katrine     | 0.77 [km^3] | 12.4 [km^2] | 12.9 [km]   | 151 [m]     |  43.4 [m]   |\n",
       "\n"
      ],
      "text/plain": [
       "   Loch    Volume      Area        Lenght    Max.Depth MeanDepth\n",
       "2  Lomond  2.60 [km^3] 71.0 [km^2] 36.0 [km] 190 [m]    37.0 [m]\n",
       "1  Ness    7.45 [km^3] 56.0 [km^2] 39.0 [km] 230 [m]   132.0 [m]\n",
       "5  Awe     1.20 [km^3] 39.0 [km^2] 41.0 [km]  94 [m]    32.0 [m]\n",
       "6  Maree   1.09 [km^3] 28.6 [km^2] 20.0 [km] 114 [m]    38.0 [m]\n",
       "3  Morar   2.30 [km^3] 27.0 [km^2] 18.8 [km] 310 [m]    87.0 [m]\n",
       "4  Tay     1.60 [km^3] 26.4 [km^2] 23.0 [km] 150 [m]    60.6 [m]\n",
       "13 Shin    0.35 [km^3] 22.5 [km^2] 27.8 [km]  49 [m]    15.5 [m]\n",
       "10 Shiel   0.79 [km^3] 19.5 [km^2] 28.0 [km] 128 [m]    40.0 [m]\n",
       "9  Rannoch 0.97 [km^3] 19.0 [km^2] 15.7 [km] 134 [m]    51.0 [m]\n",
       "7  Ericht  1.08 [km^3] 18.6 [km^2] 23.0 [km] 156 [m]    57.6 [m]\n",
       "8  Lochy   1.07 [km^3] 16.0 [km^2] 16.0 [km] 162 [m]    70.0 [m]\n",
       "12 Arkaig  0.75 [km^3] 16.0 [km^2] 19.3 [km] 109 [m]    46.5 [m]\n",
       "11 Katrine 0.77 [km^3] 12.4 [km^2] 12.9 [km] 151 [m]    43.4 [m]"
      ]
     },
     "metadata": {},
     "output_type": "display_data"
    },
    {
     "data": {
      "text/html": [
       "<span style=white-space:pre-wrap>'The two largest area lakes are  Lomond and  Ness'</span>"
      ],
      "text/latex": [
       "'The two largest area lakes are  Lomond and  Ness'"
      ],
      "text/markdown": [
       "<span style=white-space:pre-wrap>'The two largest area lakes are  Lomond and  Ness'</span>"
      ],
      "text/plain": [
       "[1] \"The two largest area lakes are  Lomond and  Ness\""
      ]
     },
     "metadata": {},
     "output_type": "display_data"
    }
   ],
   "source": [
    "ord<-order(scottish.lakes[][3],decreasing=T)\n",
    "Ord_Data<-scottish.lakes[ord,]\n",
    "Ord_Data\n",
    "paste(\"The two largest area lakes are \", Ord_Data[1,1], \"and \", Ord_Data[2,1])"
   ]
  },
  {
   "cell_type": "code",
   "execution_count": 68,
   "id": "matched-somerset",
   "metadata": {},
   "outputs": [
    {
     "data": {
      "text/html": [
       "'The area of Scotland covered by water is:'"
      ],
      "text/latex": [
       "'The area of Scotland covered by water is:'"
      ],
      "text/markdown": [
       "'The area of Scotland covered by water is:'"
      ],
      "text/plain": [
       "[1] \"The area of Scotland covered by water is:\""
      ]
     },
     "metadata": {},
     "output_type": "display_data"
    },
    {
     "data": {
      "text/plain": [
       "372 [km^2]"
      ]
     },
     "metadata": {},
     "output_type": "display_data"
    }
   ],
   "source": [
    "\"The area of Scotland covered by water is:\"\n",
    "sum(scottish.lakes[,3])"
   ]
  },
  {
   "cell_type": "code",
   "execution_count": null,
   "id": "phantom-breach",
   "metadata": {},
   "outputs": [],
   "source": []
  }
 ],
 "metadata": {
  "kernelspec": {
   "display_name": "R",
   "language": "R",
   "name": "ir"
  },
  "language_info": {
   "codemirror_mode": "r",
   "file_extension": ".r",
   "mimetype": "text/x-r-source",
   "name": "R",
   "pygments_lexer": "r",
   "version": "3.6.3"
  }
 },
 "nbformat": 4,
 "nbformat_minor": 5
}
