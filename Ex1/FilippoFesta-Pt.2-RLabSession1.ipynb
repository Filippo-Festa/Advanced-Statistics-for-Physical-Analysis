{
 "cells": [
  {
   "cell_type": "code",
   "execution_count": 107,
   "id": "alpine-procedure",
   "metadata": {
    "scrolled": true
   },
   "outputs": [
    {
     "data": {
      "text/html": [
       "<table>\n",
       "<thead><tr><th scope=col>Year</th><th scope=col>OilPrice</th></tr></thead>\n",
       "<tbody>\n",
       "\t<tr><td>1861</td><td>0.49</td></tr>\n",
       "\t<tr><td>1862</td><td>1.05</td></tr>\n",
       "\t<tr><td>1863</td><td>3.15</td></tr>\n",
       "\t<tr><td>1864</td><td>8.06</td></tr>\n",
       "\t<tr><td>1865</td><td>6.59</td></tr>\n",
       "\t<tr><td>1866</td><td>3.74</td></tr>\n",
       "\t<tr><td>1867</td><td>2.41</td></tr>\n",
       "\t<tr><td>1868</td><td>3.63</td></tr>\n",
       "\t<tr><td>1869</td><td>3.64</td></tr>\n",
       "\t<tr><td>1870</td><td>3.86</td></tr>\n",
       "\t<tr><td>1871</td><td>4.34</td></tr>\n",
       "\t<tr><td>1872</td><td>3.64</td></tr>\n",
       "\t<tr><td>1873</td><td>1.83</td></tr>\n",
       "\t<tr><td>1874</td><td>1.17</td></tr>\n",
       "\t<tr><td>1875</td><td>1.35</td></tr>\n",
       "\t<tr><td>1876</td><td>2.56</td></tr>\n",
       "\t<tr><td>1877</td><td>2.42</td></tr>\n",
       "\t<tr><td>1878</td><td>1.19</td></tr>\n",
       "\t<tr><td>1879</td><td>0.86</td></tr>\n",
       "\t<tr><td>1880</td><td>0.95</td></tr>\n",
       "\t<tr><td>1881</td><td>0.86</td></tr>\n",
       "\t<tr><td>1882</td><td>0.78</td></tr>\n",
       "\t<tr><td>1883</td><td>1.00</td></tr>\n",
       "\t<tr><td>1884</td><td>0.84</td></tr>\n",
       "\t<tr><td>1885</td><td>0.88</td></tr>\n",
       "\t<tr><td>1886</td><td>0.71</td></tr>\n",
       "\t<tr><td>1887</td><td>0.67</td></tr>\n",
       "\t<tr><td>1888</td><td>0.88</td></tr>\n",
       "\t<tr><td>1889</td><td>0.94</td></tr>\n",
       "\t<tr><td>1890</td><td>0.87</td></tr>\n",
       "\t<tr><td>...</td><td>...</td></tr>\n",
       "\t<tr><td>1990     </td><td> 23.72582</td></tr>\n",
       "\t<tr><td>1991     </td><td> 20.00091</td></tr>\n",
       "\t<tr><td>1992     </td><td> 19.32084</td></tr>\n",
       "\t<tr><td>1993     </td><td> 16.97163</td></tr>\n",
       "\t<tr><td>1994     </td><td> 15.81763</td></tr>\n",
       "\t<tr><td>1995     </td><td> 17.01668</td></tr>\n",
       "\t<tr><td>1996     </td><td> 20.66849</td></tr>\n",
       "\t<tr><td>1997     </td><td> 19.09259</td></tr>\n",
       "\t<tr><td>1998     </td><td> 12.71566</td></tr>\n",
       "\t<tr><td>1999     </td><td> 17.97008</td></tr>\n",
       "\t<tr><td>2000     </td><td> 28.49545</td></tr>\n",
       "\t<tr><td>2001     </td><td> 24.44389</td></tr>\n",
       "\t<tr><td>2002     </td><td> 25.02326</td></tr>\n",
       "\t<tr><td>2003     </td><td> 28.83070</td></tr>\n",
       "\t<tr><td>2004     </td><td> 38.26500</td></tr>\n",
       "\t<tr><td>2005     </td><td> 54.52109</td></tr>\n",
       "\t<tr><td>2006     </td><td> 65.14406</td></tr>\n",
       "\t<tr><td>2007     </td><td> 72.38908</td></tr>\n",
       "\t<tr><td>2008     </td><td> 97.25597</td></tr>\n",
       "\t<tr><td>2009     </td><td> 61.67126</td></tr>\n",
       "\t<tr><td>2010     </td><td> 79.49553</td></tr>\n",
       "\t<tr><td>2011     </td><td>111.25560</td></tr>\n",
       "\t<tr><td>2012     </td><td>111.66970</td></tr>\n",
       "\t<tr><td>2013     </td><td>108.65852</td></tr>\n",
       "\t<tr><td>2014     </td><td> 98.94601</td></tr>\n",
       "\t<tr><td>2015     </td><td> 52.38676</td></tr>\n",
       "\t<tr><td>2016     </td><td> 43.73417</td></tr>\n",
       "\t<tr><td>2017     </td><td> 54.19244</td></tr>\n",
       "\t<tr><td>2018     </td><td> 71.31006</td></tr>\n",
       "\t<tr><td>2019     </td><td> 64.21057</td></tr>\n",
       "</tbody>\n",
       "</table>\n"
      ],
      "text/latex": [
       "\\begin{tabular}{r|ll}\n",
       " Year & OilPrice\\\\\n",
       "\\hline\n",
       "\t 1861 & 0.49\\\\\n",
       "\t 1862 & 1.05\\\\\n",
       "\t 1863 & 3.15\\\\\n",
       "\t 1864 & 8.06\\\\\n",
       "\t 1865 & 6.59\\\\\n",
       "\t 1866 & 3.74\\\\\n",
       "\t 1867 & 2.41\\\\\n",
       "\t 1868 & 3.63\\\\\n",
       "\t 1869 & 3.64\\\\\n",
       "\t 1870 & 3.86\\\\\n",
       "\t 1871 & 4.34\\\\\n",
       "\t 1872 & 3.64\\\\\n",
       "\t 1873 & 1.83\\\\\n",
       "\t 1874 & 1.17\\\\\n",
       "\t 1875 & 1.35\\\\\n",
       "\t 1876 & 2.56\\\\\n",
       "\t 1877 & 2.42\\\\\n",
       "\t 1878 & 1.19\\\\\n",
       "\t 1879 & 0.86\\\\\n",
       "\t 1880 & 0.95\\\\\n",
       "\t 1881 & 0.86\\\\\n",
       "\t 1882 & 0.78\\\\\n",
       "\t 1883 & 1.00\\\\\n",
       "\t 1884 & 0.84\\\\\n",
       "\t 1885 & 0.88\\\\\n",
       "\t 1886 & 0.71\\\\\n",
       "\t 1887 & 0.67\\\\\n",
       "\t 1888 & 0.88\\\\\n",
       "\t 1889 & 0.94\\\\\n",
       "\t 1890 & 0.87\\\\\n",
       "\t ... & ...\\\\\n",
       "\t 1990      &  23.72582\\\\\n",
       "\t 1991      &  20.00091\\\\\n",
       "\t 1992      &  19.32084\\\\\n",
       "\t 1993      &  16.97163\\\\\n",
       "\t 1994      &  15.81763\\\\\n",
       "\t 1995      &  17.01668\\\\\n",
       "\t 1996      &  20.66849\\\\\n",
       "\t 1997      &  19.09259\\\\\n",
       "\t 1998      &  12.71566\\\\\n",
       "\t 1999      &  17.97008\\\\\n",
       "\t 2000      &  28.49545\\\\\n",
       "\t 2001      &  24.44389\\\\\n",
       "\t 2002      &  25.02326\\\\\n",
       "\t 2003      &  28.83070\\\\\n",
       "\t 2004      &  38.26500\\\\\n",
       "\t 2005      &  54.52109\\\\\n",
       "\t 2006      &  65.14406\\\\\n",
       "\t 2007      &  72.38908\\\\\n",
       "\t 2008      &  97.25597\\\\\n",
       "\t 2009      &  61.67126\\\\\n",
       "\t 2010      &  79.49553\\\\\n",
       "\t 2011      & 111.25560\\\\\n",
       "\t 2012      & 111.66970\\\\\n",
       "\t 2013      & 108.65852\\\\\n",
       "\t 2014      &  98.94601\\\\\n",
       "\t 2015      &  52.38676\\\\\n",
       "\t 2016      &  43.73417\\\\\n",
       "\t 2017      &  54.19244\\\\\n",
       "\t 2018      &  71.31006\\\\\n",
       "\t 2019      &  64.21057\\\\\n",
       "\\end{tabular}\n"
      ],
      "text/markdown": [
       "\n",
       "| Year | OilPrice |\n",
       "|---|---|\n",
       "| 1861 | 0.49 |\n",
       "| 1862 | 1.05 |\n",
       "| 1863 | 3.15 |\n",
       "| 1864 | 8.06 |\n",
       "| 1865 | 6.59 |\n",
       "| 1866 | 3.74 |\n",
       "| 1867 | 2.41 |\n",
       "| 1868 | 3.63 |\n",
       "| 1869 | 3.64 |\n",
       "| 1870 | 3.86 |\n",
       "| 1871 | 4.34 |\n",
       "| 1872 | 3.64 |\n",
       "| 1873 | 1.83 |\n",
       "| 1874 | 1.17 |\n",
       "| 1875 | 1.35 |\n",
       "| 1876 | 2.56 |\n",
       "| 1877 | 2.42 |\n",
       "| 1878 | 1.19 |\n",
       "| 1879 | 0.86 |\n",
       "| 1880 | 0.95 |\n",
       "| 1881 | 0.86 |\n",
       "| 1882 | 0.78 |\n",
       "| 1883 | 1.00 |\n",
       "| 1884 | 0.84 |\n",
       "| 1885 | 0.88 |\n",
       "| 1886 | 0.71 |\n",
       "| 1887 | 0.67 |\n",
       "| 1888 | 0.88 |\n",
       "| 1889 | 0.94 |\n",
       "| 1890 | 0.87 |\n",
       "| ... | ... |\n",
       "| 1990      |  23.72582 |\n",
       "| 1991      |  20.00091 |\n",
       "| 1992      |  19.32084 |\n",
       "| 1993      |  16.97163 |\n",
       "| 1994      |  15.81763 |\n",
       "| 1995      |  17.01668 |\n",
       "| 1996      |  20.66849 |\n",
       "| 1997      |  19.09259 |\n",
       "| 1998      |  12.71566 |\n",
       "| 1999      |  17.97008 |\n",
       "| 2000      |  28.49545 |\n",
       "| 2001      |  24.44389 |\n",
       "| 2002      |  25.02326 |\n",
       "| 2003      |  28.83070 |\n",
       "| 2004      |  38.26500 |\n",
       "| 2005      |  54.52109 |\n",
       "| 2006      |  65.14406 |\n",
       "| 2007      |  72.38908 |\n",
       "| 2008      |  97.25597 |\n",
       "| 2009      |  61.67126 |\n",
       "| 2010      |  79.49553 |\n",
       "| 2011      | 111.25560 |\n",
       "| 2012      | 111.66970 |\n",
       "| 2013      | 108.65852 |\n",
       "| 2014      |  98.94601 |\n",
       "| 2015      |  52.38676 |\n",
       "| 2016      |  43.73417 |\n",
       "| 2017      |  54.19244 |\n",
       "| 2018      |  71.31006 |\n",
       "| 2019      |  64.21057 |\n",
       "\n"
      ],
      "text/plain": [
       "    Year OilPrice \n",
       "1   1861 0.49     \n",
       "2   1862 1.05     \n",
       "3   1863 3.15     \n",
       "4   1864 8.06     \n",
       "5   1865 6.59     \n",
       "6   1866 3.74     \n",
       "7   1867 2.41     \n",
       "8   1868 3.63     \n",
       "9   1869 3.64     \n",
       "10  1870 3.86     \n",
       "11  1871 4.34     \n",
       "12  1872 3.64     \n",
       "13  1873 1.83     \n",
       "14  1874 1.17     \n",
       "15  1875 1.35     \n",
       "16  1876 2.56     \n",
       "17  1877 2.42     \n",
       "18  1878 1.19     \n",
       "19  1879 0.86     \n",
       "20  1880 0.95     \n",
       "21  1881 0.86     \n",
       "22  1882 0.78     \n",
       "23  1883 1.00     \n",
       "24  1884 0.84     \n",
       "25  1885 0.88     \n",
       "26  1886 0.71     \n",
       "27  1887 0.67     \n",
       "28  1888 0.88     \n",
       "29  1889 0.94     \n",
       "30  1890 0.87     \n",
       "... ...  ...      \n",
       "130 1990  23.72582\n",
       "131 1991  20.00091\n",
       "132 1992  19.32084\n",
       "133 1993  16.97163\n",
       "134 1994  15.81763\n",
       "135 1995  17.01668\n",
       "136 1996  20.66849\n",
       "137 1997  19.09259\n",
       "138 1998  12.71566\n",
       "139 1999  17.97008\n",
       "140 2000  28.49545\n",
       "141 2001  24.44389\n",
       "142 2002  25.02326\n",
       "143 2003  28.83070\n",
       "144 2004  38.26500\n",
       "145 2005  54.52109\n",
       "146 2006  65.14406\n",
       "147 2007  72.38908\n",
       "148 2008  97.25597\n",
       "149 2009  61.67126\n",
       "150 2010  79.49553\n",
       "151 2011 111.25560\n",
       "152 2012 111.66970\n",
       "153 2013 108.65852\n",
       "154 2014  98.94601\n",
       "155 2015  52.38676\n",
       "156 2016  43.73417\n",
       "157 2017  54.19244\n",
       "158 2018  71.31006\n",
       "159 2019  64.21057"
      ]
     },
     "metadata": {},
     "output_type": "display_data"
    }
   ],
   "source": [
    "oilPrices<-read.csv(\"crude-oil-prices.csv\", skip=1, colClasses = c(rep(\"NULL\", 2), rep(\"numeric\", 2)))\n",
    "oilPrices"
   ]
  },
  {
   "cell_type": "code",
   "execution_count": 103,
   "id": "mobile-lambda",
   "metadata": {
    "scrolled": true
   },
   "outputs": [
    {
     "data": {
      "image/png": "[encoded data removed]",
      "text/plain": [
       "Plot with title \"Oil price vs. Year\""
      ]
     },
     "metadata": {},
     "output_type": "display_data"
    }
   ],
   "source": [
    "plot(oilPrices[,1], \n",
    "  oilPrices[,2], \n",
    "  col=\"blue\",  \n",
    "  ylab = \"Oil price [$]\",\n",
    "  xlab = \"Year\",\n",
    "  pch=20,\n",
    "  cex=0.7)\n",
    "  title(\"Oil price vs. Year\")\n",
    "\n",
    "lines(oilPrices[,1], \n",
    "  oilPrices[,2], \n",
    "  col = \" firebrick 1\", \n",
    "  lty=5)\n",
    "\n",
    "grid()"
   ]
  },
  {
   "cell_type": "code",
   "execution_count": 104,
   "id": "abstract-heather",
   "metadata": {},
   "outputs": [
    {
     "data": {
      "text/html": [
       "'The highest oil price in history is:'"
      ],
      "text/latex": [
       "'The highest oil price in history is:'"
      ],
      "text/markdown": [
       "'The highest oil price in history is:'"
      ],
      "text/plain": [
       "[1] \"The highest oil price in history is:\""
      ]
     },
     "metadata": {},
     "output_type": "display_data"
    },
    {
     "data": {
      "text/html": [
       "'111.669702380952 $'"
      ],
      "text/latex": [
       "'111.669702380952 \\$'"
      ],
      "text/markdown": [
       "'111.669702380952 $'"
      ],
      "text/plain": [
       "[1] \"111.669702380952 $\""
      ]
     },
     "metadata": {},
     "output_type": "display_data"
    },
    {
     "data": {
      "text/html": [
       "'It occur in the year:'"
      ],
      "text/latex": [
       "'It occur in the year:'"
      ],
      "text/markdown": [
       "'It occur in the year:'"
      ],
      "text/plain": [
       "[1] \"It occur in the year:\""
      ]
     },
     "metadata": {},
     "output_type": "display_data"
    },
    {
     "data": {
      "text/html": [
       "2012"
      ],
      "text/latex": [
       "2012"
      ],
      "text/markdown": [
       "2012"
      ],
      "text/plain": [
       "[1] 2012"
      ]
     },
     "metadata": {},
     "output_type": "display_data"
    }
   ],
   "source": [
    "\"The highest oil price in history is:\"\n",
    "M<-max(oilPrices$OilPrice)\n",
    "paste(M,\"$\")\n",
    "\n",
    "\"It occur in the year:\"\n",
    "\n",
    "oilPrices[match(M,oilPrices[,2]),1]"
   ]
  },
  {
   "cell_type": "code",
   "execution_count": 106,
   "id": "fluid-pricing",
   "metadata": {},
   "outputs": [
    {
     "data": {
      "image/png": "[encoded data removed]",
      "text/plain": [
       "Plot with title \"Forward Derivative\""
      ]
     },
     "metadata": {},
     "output_type": "display_data"
    }
   ],
   "source": [
    "N<-length(oilPrices$OilPrice)\n",
    "Der<-vector(length=N)\n",
    "for (i in 1:N-1) {\n",
    "    Der[i] <- oilPrices$OilPrice[i+1] - oilPrices$OilPrice[i]\n",
    "}\n",
    "Der[N]<-Der[N-1]\n",
    "\n",
    "\n",
    "plot(oilPrices[,1], \n",
    "  Der, \n",
    "  col=\"blue\",  \n",
    "  ylab = \"Derivative [$ per year]\",\n",
    "  xlab = \"Year\",\n",
    "  pch=20,\n",
    "  cex=0.7)\n",
    "  title(\"Forward Derivative\")\n",
    "\n",
    "lines(oilPrices[,1], \n",
    "  Der, \n",
    "  col = \" firebrick 1\", \n",
    "  lty=5)\n",
    "\n",
    "grid()"
   ]
  },
  {
   "cell_type": "code",
   "execution_count": null,
   "id": "given-plasma",
   "metadata": {},
   "outputs": [],
   "source": []
  }
 ],
 "metadata": {
  "kernelspec": {
   "display_name": "R",
   "language": "R",
   "name": "ir"
  },
  "language_info": {
   "codemirror_mode": "r",
   "file_extension": ".r",
   "mimetype": "text/x-r-source",
   "name": "R",
   "pygments_lexer": "r",
   "version": "3.6.3"
  }
 },
 "nbformat": 4,
 "nbformat_minor": 5
}
