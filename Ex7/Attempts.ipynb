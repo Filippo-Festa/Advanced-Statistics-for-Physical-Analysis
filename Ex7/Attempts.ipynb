{
 "cells": [
  {
   "cell_type": "code",
   "execution_count": 1,
   "id": "israeli-judgment",
   "metadata": {},
   "outputs": [
    {
     "data": {
      "text/html": [
       "0.867830250729697"
      ],
      "text/latex": [
       "0.867830250729697"
      ],
      "text/markdown": [
       "0.867830250729697"
      ],
      "text/plain": [
       "[1] 0.8678303"
      ]
     },
     "metadata": {},
     "output_type": "display_data"
    },
    {
     "data": {
      "text/html": [
       "0.426287396329127"
      ],
      "text/latex": [
       "0.426287396329127"
      ],
      "text/markdown": [
       "0.426287396329127"
      ],
      "text/plain": [
       "[1] 0.4262874"
      ]
     },
     "metadata": {},
     "output_type": "display_data"
    },
    {
     "name": "stdout",
     "output_type": "stream",
     "text": [
      "\n"
     ]
    },
    {
     "data": {
      "text/html": [
       "0.647058823529412"
      ],
      "text/latex": [
       "0.647058823529412"
      ],
      "text/markdown": [
       "0.647058823529412"
      ],
      "text/plain": [
       "[1] 0.6470588"
      ]
     },
     "metadata": {},
     "output_type": "display_data"
    },
    {
     "data": {
      "text/html": [
       "0.848016324918878"
      ],
      "text/latex": [
       "0.848016324918878"
      ],
      "text/markdown": [
       "0.848016324918878"
      ],
      "text/plain": [
       "[1] 0.8480163"
      ]
     },
     "metadata": {},
     "output_type": "display_data"
    },
    {
     "data": {
      "text/html": [
       "0.413379363548641"
      ],
      "text/latex": [
       "0.413379363548641"
      ],
      "text/markdown": [
       "0.413379363548641"
      ],
      "text/plain": [
       "[1] 0.4133794"
      ]
     },
     "metadata": {},
     "output_type": "display_data"
    },
    {
     "data": {
      "text/html": [
       "0.112638483265452"
      ],
      "text/latex": [
       "0.112638483265452"
      ],
      "text/markdown": [
       "0.112638483265452"
      ],
      "text/plain": [
       "[1] 0.1126385"
      ]
     },
     "metadata": {},
     "output_type": "display_data"
    }
   ],
   "source": [
    "delta.p<-0.0001\n",
    "p.min<-0\n",
    "p.max<-1\n",
    "p<-seq(from=p.min, to=p.max, by=delta.p)\n",
    "\n",
    "beta.sq<-function(a,b){\n",
    "    sqrt((a*b)/((a+b+1)*(a+b)^2))\n",
    "}\n",
    "\n",
    "\n",
    "a<-11\n",
    "b<-6\n",
    "\n",
    "M <- (a/(a+b))\n",
    "S <- beta.sq(a,b)\n",
    "posterior<-dbeta(p,a,b)\n",
    "Max<-p[which.max(posterior)]\n",
    "\n",
    "L<-qbeta(0.025,a,b)\n",
    "H<-qbeta(0.975,a,b)\n",
    "\n",
    "M+1.96*S\n",
    "M-1.96*S\n",
    "cat(\"\\n\")\n",
    "M\n",
    "H\n",
    "L\n",
    "S"
   ]
  },
  {
   "cell_type": "code",
   "execution_count": 2,
   "id": "resident-lancaster",
   "metadata": {},
   "outputs": [
    {
     "name": "stdout",
     "output_type": "stream",
     "text": [
      "\n",
      "Inside"
     ]
    }
   ],
   "source": [
    "x<-3\n",
    "if(x>=1 & x<=5){\n",
    "        cat(\"\\nInside\")\n",
    "    }else{\n",
    "        cat(\"\\nOutside\")\n",
    "    }"
   ]
  },
  {
   "cell_type": "code",
   "execution_count": 3,
   "id": "positive-collapse",
   "metadata": {},
   "outputs": [
    {
     "data": {
      "text/plain": [
       "\n",
       "\tExact binomial test\n",
       "\n",
       "data:  y and n\n",
       "number of successes = 10, number of trials = 15, p-value = 0.3018\n",
       "alternative hypothesis: true probability of success is not equal to 0.5\n",
       "95 percent confidence interval:\n",
       " 0.3838037 0.8817589\n",
       "sample estimates:\n",
       "probability of success \n",
       "             0.6666667 \n"
      ]
     },
     "metadata": {},
     "output_type": "display_data"
    }
   ],
   "source": [
    "y<-10\n",
    "n<-15\n",
    "binom.test(y, n, p = 0.5, alternative = \"two.sided\", conf.level = 0.95)"
   ]
  },
  {
   "cell_type": "code",
   "execution_count": 31,
   "id": "marked-compound",
   "metadata": {},
   "outputs": [
    {
     "data": {
      "text/plain": [
       "\n",
       "\tExact binomial test\n",
       "\n",
       "data:  y and n\n",
       "number of successes = 8, number of trials = 10, p-value = 0.1673\n",
       "alternative hypothesis: true probability of success is greater than 0.6\n",
       "95 percent confidence interval:\n",
       " 0.4930987 1.0000000\n",
       "sample estimates:\n",
       "probability of success \n",
       "                   0.8 \n"
      ]
     },
     "metadata": {},
     "output_type": "display_data"
    }
   ],
   "source": [
    "y<-8\n",
    "n<-10\n",
    "binom.test(y, n, p = 0.6, alternative = \"greater\", conf.level = 0.95)"
   ]
  },
  {
   "cell_type": "code",
   "execution_count": 17,
   "id": "pointed-manner",
   "metadata": {},
   "outputs": [
    {
     "data": {
      "text/html": [
       "<ol class=list-inline>\n",
       "\t<li>3.0517578125e-05</li>\n",
       "\t<li>0.000457763671874999</li>\n",
       "\t<li>0.00320434570312501</li>\n",
       "\t<li>0.013885498046875</li>\n",
       "\t<li>0.0416564941406251</li>\n",
       "\t<li>0.0916442871093751</li>\n",
       "\t<li>0.152740478515625</li>\n",
       "\t<li>0.196380615234375</li>\n",
       "\t<li>0.196380615234375</li>\n",
       "\t<li>0.152740478515625</li>\n",
       "\t<li>0.0916442871093751</li>\n",
       "\t<li>0.0416564941406251</li>\n",
       "\t<li>0.013885498046875</li>\n",
       "\t<li>0.00320434570312501</li>\n",
       "\t<li>0.000457763671875</li>\n",
       "\t<li>3.0517578125e-05</li>\n",
       "</ol>\n"
      ],
      "text/latex": [
       "\\begin{enumerate*}\n",
       "\\item 3.0517578125e-05\n",
       "\\item 0.000457763671874999\n",
       "\\item 0.00320434570312501\n",
       "\\item 0.013885498046875\n",
       "\\item 0.0416564941406251\n",
       "\\item 0.0916442871093751\n",
       "\\item 0.152740478515625\n",
       "\\item 0.196380615234375\n",
       "\\item 0.196380615234375\n",
       "\\item 0.152740478515625\n",
       "\\item 0.0916442871093751\n",
       "\\item 0.0416564941406251\n",
       "\\item 0.013885498046875\n",
       "\\item 0.00320434570312501\n",
       "\\item 0.000457763671875\n",
       "\\item 3.0517578125e-05\n",
       "\\end{enumerate*}\n"
      ],
      "text/markdown": [
       "1. 3.0517578125e-05\n",
       "2. 0.000457763671874999\n",
       "3. 0.00320434570312501\n",
       "4. 0.013885498046875\n",
       "5. 0.0416564941406251\n",
       "6. 0.0916442871093751\n",
       "7. 0.152740478515625\n",
       "8. 0.196380615234375\n",
       "9. 0.196380615234375\n",
       "10. 0.152740478515625\n",
       "11. 0.0916442871093751\n",
       "12. 0.0416564941406251\n",
       "13. 0.013885498046875\n",
       "14. 0.00320434570312501\n",
       "15. 0.000457763671875\n",
       "16. 3.0517578125e-05\n",
       "\n",
       "\n"
      ],
      "text/plain": [
       " [1] 3.051758e-05 4.577637e-04 3.204346e-03 1.388550e-02 4.165649e-02\n",
       " [6] 9.164429e-02 1.527405e-01 1.963806e-01 1.963806e-01 1.527405e-01\n",
       "[11] 9.164429e-02 4.165649e-02 1.388550e-02 3.204346e-03 4.577637e-04\n",
       "[16] 3.051758e-05"
      ]
     },
     "metadata": {},
     "output_type": "display_data"
    },
    {
     "data": {
      "text/html": [
       "0.017578125"
      ],
      "text/latex": [
       "0.017578125"
      ],
      "text/markdown": [
       "0.017578125"
      ],
      "text/plain": [
       "[1] 0.01757812"
      ]
     },
     "metadata": {},
     "output_type": "display_data"
    },
    {
     "data": {
      "text/html": [
       "0.017578125"
      ],
      "text/latex": [
       "0.017578125"
      ],
      "text/markdown": [
       "0.017578125"
      ],
      "text/plain": [
       "[1] 0.01757812"
      ]
     },
     "metadata": {},
     "output_type": "display_data"
    },
    {
     "data": {
      "text/html": [
       "0.0351562499999999"
      ],
      "text/latex": [
       "0.0351562499999999"
      ],
      "text/markdown": [
       "0.0351562499999999"
      ],
      "text/plain": [
       "[1] 0.03515625"
      ]
     },
     "metadata": {},
     "output_type": "display_data"
    },
    {
     "data": {
      "image/png": "[encoded data removed]",
      "text/plain": [
       "plot without title"
      ]
     },
     "metadata": {},
     "output_type": "display_data"
    }
   ],
   "source": [
    "P<-dbinom(0:15, size=15, prob=0.5)\n",
    "P\n",
    "\n",
    "barplot(P, ylim=c(0, 0.2))\n",
    "abline(h=0.05, col=\"red\")\n",
    "\n",
    "x<-0:3\n",
    "y<-12:15\n",
    "sum(dbinom(x, size=15, prob=0.5))\n",
    "sum(dbinom(y, size=15, prob=0.5))\n",
    "sum(dbinom(x, size=15, prob=0.5)) + sum(dbinom(y, size=15, prob=0.5))"
   ]
  },
  {
   "cell_type": "code",
   "execution_count": null,
   "id": "verbal-oxide",
   "metadata": {},
   "outputs": [],
   "source": [
    "n<-75\n",
    "y<-6\n",
    "P<-dbinom(0:75, size=n, prob=0.15)\n",
    "P\n",
    "\n",
    "barplot(P, ylim=c(0, 0.15))\n",
    "abline(h=0.05, col=\"red\")\n",
    "\n",
    "\n",
    "dbinom(0:7, size=n, prob=0.15)\n",
    "sum(dbinom(0:6, size=n, prob=0.15))\n"
   ]
  },
  {
   "cell_type": "code",
   "execution_count": 29,
   "id": "clean-replica",
   "metadata": {},
   "outputs": [
    {
     "data": {
      "text/html": [
       "0.0351562499999999"
      ],
      "text/latex": [
       "0.0351562499999999"
      ],
      "text/markdown": [
       "0.0351562499999999"
      ],
      "text/plain": [
       "[1] 0.03515625"
      ]
     },
     "metadata": {},
     "output_type": "display_data"
    }
   ],
   "source": [
    "sum(dbinom(0:3, size=15, prob=0.5))+sum(dbinom(12:15, size=15, prob=0.5))"
   ]
  },
  {
   "cell_type": "code",
   "execution_count": null,
   "id": "adjustable-minister",
   "metadata": {},
   "outputs": [],
   "source": [
    "Data1<-tibble(y=c(11, 9), n=c(116, 165), name=c(\"First sample\", \"Second sample\"))\n",
    "Data2<-Data1 %>% add_row(y=9, n=165, name=\"Total sample\") %>% add_column(alpha=c(1,1,12), beta=c(10,10,115))\n",
    "Data2\n",
    "\n",
    "P<-dbinom(0:116, size=116, prob=0.1)            #1\n",
    "x<-0:5\n",
    "y<-19:116\n",
    "sum(dbinom(x, size=116, prob=0.1))\n",
    "sum(dbinom(y, size=116, prob=0.1))\n",
    "sum(dbinom(x, size=116, prob=0.1))+sum(dbinom(y, size=116, prob=0.1))\n",
    "dbinom(11, size=116, prob=0.1)   "
   ]
  },
  {
   "cell_type": "code",
   "execution_count": null,
   "id": "adaptive-panic",
   "metadata": {},
   "outputs": [],
   "source": [
    "Data1<-tibble(y=c(11, 9), n=c(116, 165), name=c(\"First sample\", \"Second sample\"))\n",
    "Data2<-Data1 %>% add_row(y=9, n=165, name=\"Total sample\") %>% add_column(alpha=c(1,1,12), beta=c(10,10,115))\n",
    " #Data2\n",
    "\n",
    "\n",
    "P<-dbinom(0:165, size=165, prob=0.1)            #2 \n",
    "\n",
    "x<-0:9\n",
    "y<-25:165\n",
    "S1 <- sum(dbinom(x, size=165, prob=0.1))\n",
    "S2 <- sum(dbinom(y, size=165, prob=0.1))\n",
    "S1\n",
    "S2\n",
    "cat(\"level of significance: \", S1+S2)\n",
    "Freq<-binom.test(9, 165, p = 0.1, alternative = \"two.sided\", conf.level = 1-S1-S2) \n",
    "Freq \n",
    "#cat(\"\\npvalue: \", Freq$p.value)\n",
    "\n",
    "#dbinom(9, size=165, prob=0.1)   \n",
    "\n",
    "barplot(P, ylim=c(0, 0.12), xlim=c(0,11))\n",
    "abline(h= 0.03656096, col=\"red\")"
   ]
  }
 ],
 "metadata": {
  "kernelspec": {
   "display_name": "R",
   "language": "R",
   "name": "ir"
  },
  "language_info": {
   "codemirror_mode": "r",
   "file_extension": ".r",
   "mimetype": "text/x-r-source",
   "name": "R",
   "pygments_lexer": "r",
   "version": "3.6.3"
  }
 },
 "nbformat": 4,
 "nbformat_minor": 5
}
